{
 "cells": [
  {
   "cell_type": "markdown",
   "metadata": {},
   "source": [
    "# Arbeiten mit Jupyter\n",
    "\n",
    "Jupyter ist ein interaktives Notebook Tool. Das Notebook läuft innerhalb eines Linux Systems, und lässt das ausführen von einzelnen Skripten zu.\n",
    "Mitunter von Text findet ihr auf den zukünftigen Seiten immer wieder Bash Skripte. \n",
    "Sobald ihr ein Skript ausgewählt habt könnt ihr dieses mit **STRG+ENTER** ausführen.\n",
    "Die Konsolen Ausgabe erscheint kurz darauf darunter."
   ]
  },
  {
   "cell_type": "code",
   "execution_count": null,
   "metadata": {},
   "outputs": [],
   "source": [
    "%%bash\n",
    "echo \"Hello World\"\n",
    "\n",
    "#Do not remove the following Line (Cleanup old git repository)\n",
    "rm -rf .git"
   ]
  },
  {
   "cell_type": "markdown",
   "metadata": {},
   "source": [
    "# Einführung in git\n",
    "\n",
    "## Was ist git?\n",
    "\n",
    "> Git [ɡɪt] ist eine freie Software zur verteilten Versionsverwaltung von Dateien, die durch Linus Torvalds initiiert wurde. \n",
    "\n",
    "[Quelle: Wikipedia](https://de.wikipedia.org/wiki/Git)\n",
    "\n",
    "## Vorteile von git\n",
    "\n",
    "* mithilfe von git lassen sich Änderungen an einer oder mehreren Dateeien  protokollieren\n",
    "* die Änderungshistorie ist zeitlich nicht begrenzt\n",
    "* man kann zu jeder Zeit zu einer Änderung in der Vergangenheit \"springen\"\n",
    "* geringe Fehleranfälligkeit\n",
    "* geringer Aufwand bei dem Verwenden von git\n",
    "* lokales Arbeiten ist möglich (kein Server benötigt)\n",
    "* durch verteilte Versionskontrollsysteme wird es größeren Projektteams ermöglicht ihre Änderungen gegenseitig auszutauschen\n",
    "\n",
    "![Verteilte Systeme](files/git_verteiltesysteme.png)\n",
    "\n",
    "[Quelle: git-scm.com: Wozu git](https://git-scm.com/book/de/v1/Los-geht%E2%80%99s-Wozu-Versionskontrolle%3F)"
   ]
  },
  {
   "cell_type": "markdown",
   "metadata": {},
   "source": [
    "## Grundlagen\n",
    "\n",
    "Änderungen werden **Commits** genannt und erhalten bei dem erstellen einen eineindeutigen Hashwert. Git erkennt Differenzen in den Dateien über eine Checksum.\n",
    "\n",
    "Beispiel:\n",
    "```\n",
    "commit 89fba2edc30d88e807f6db626a3b25c26b1171a9 (HEAD -> master, origin/master, origin/HEAD)\n",
    "Author: Tobias Löb <tloeb@inwerken.de>\n",
    "Date:   Mon Sep 24 11:13:32 2018 +0200\n",
    "\n",
    "    ADDED simple jupyter notebook\n",
    "```\n",
    "\n",
    "### Git Haupt-Zustände einer Datei\n",
    "\n",
    "* modified\n",
    "* staged\n",
    "* commited\n",
    "\n",
    "### Git Aktionen\n",
    "\n",
    "![Git Operationen](files/git_operations.png)\n",
    "\n",
    "Innerhalb des git directories (*.git* Verzeichniss) liegt das gesamte Git Repository. Dieses wird bei einem *git clone* von einem entfernten System  auf das lokale System kopiert.\n",
    "\n",
    "Das working Directory ist ein **Checkout** einer spezifischen Version des Git Projektes. Und enthält Dateein welche zur Bearbeitung vorgesehen sind.\n",
    "\n",
    "Wird eine Datei bearbeitet erhält sie zunächst den Zustand **modiefied**.\n",
    "Um sie zu einem neuen **Commit** hinzuzufügen muss sie zu allererst in die **Staging Area** aufgenommen werden. Nun kann ein neuer **Commit** aus der Staging Area erzeugt werden.\n",
    "\n",
    "#### Zusammenfassung Git Arbeitsprozess\n",
    "\n",
    "1. Du bearbeitest Dateien in Deinem Arbeitsverzeichnis.\n",
    "2. Du markierst Dateien für den nächsten Commit, indem Du Snapshots zur Staging Area hinzufügst.\n",
    "3. Du legst den Commit an, wodurch die in der Staging Area vorgemerkten Snapshots dauerhaft im Git Verzeichnis (d.h. der lokalen Datenbank) gespeichert werden.\n",
    "\n",
    "\n",
    "[Quelle: git-scm.com: Grundlagen](https://git-scm.com/book/de/v1/Los-geht%E2%80%99s-Git-Grundlagen)"
   ]
  },
  {
   "cell_type": "markdown",
   "metadata": {},
   "source": [
    "## Installation\n",
    "\n",
    "### Windows\n",
    "http://msysgit.github.com/\n",
    "\n",
    "### Linux\n",
    "\n",
    "#### CentOS / RHEL\n",
    "`sudo yum install git`\n",
    "\n",
    "#### Debian Based Distributions\n",
    "`sudo apt install git`\n",
    "\n",
    "\n",
    "### Mac OS X\n",
    "http://sourceforge.net/projects/git-osx-installer/\n",
    "\n",
    "`brew install git`"
   ]
  },
  {
   "cell_type": "markdown",
   "metadata": {},
   "source": [
    "## Git Konfiguration\n",
    "\n",
    "Vor dem Verwenden von Git muss noch die eigene Identität konfiguriert werden."
   ]
  },
  {
   "cell_type": "code",
   "execution_count": null,
   "metadata": {},
   "outputs": [],
   "source": [
    "%%bash\n",
    "# Die Identität besteht aus einem Namen und einer zugehörigen Email Adresse\n",
    "git config --global user.name \"John Doe\"\n",
    "git config --global user.email johndoe@example.com\n",
    "# Anschließend überprüfen wir die Konfiguration\n",
    "git config --list | grep user"
   ]
  },
  {
   "cell_type": "markdown",
   "metadata": {},
   "source": [
    "## Git Commands"
   ]
  },
  {
   "cell_type": "code",
   "execution_count": null,
   "metadata": {},
   "outputs": [],
   "source": [
    "%%bash\n",
    "git help"
   ]
  },
  {
   "cell_type": "markdown",
   "metadata": {},
   "source": [
    "## Erzeugen eines neuen Git Repositories"
   ]
  },
  {
   "cell_type": "code",
   "execution_count": null,
   "metadata": {},
   "outputs": [],
   "source": [
    "%%bash\n",
    "# Erzeuge ein Unterordner\n",
    "mkdir myproject\n",
    "# Wechsle in den eben erstellten Unterordner\n",
    "cd myproject\n",
    "pwd\n",
    "# Initialisiere das Git Projekt\n",
    "git init\n",
    "# Überprüfe ob das .git Verzeichniss anglegt wurde\n",
    "ls -la"
   ]
  },
  {
   "cell_type": "markdown",
   "metadata": {},
   "source": [
    "## Hinzufügen einer README\n",
    "\n",
    "Öffne ein neuen Tab und gehe zum Jupyter File Browser (Erreichbar über ein Klick auf das Jupyter Logo oben Links)\n",
    "\n",
    "Nun solltest du den frisch erstellten Ordner sehen.\n",
    "Innerhalb diesen Ordners erstelle eine Datei namens *README.md* und füge ein wenig Inhalt in diese Datei."
   ]
  },
  {
   "cell_type": "code",
   "execution_count": null,
   "metadata": {},
   "outputs": [],
   "source": [
    "%%bash\n",
    "cd myproject\n",
    "git status"
   ]
  },
  {
   "cell_type": "markdown",
   "metadata": {},
   "source": [
    "![Git Operationen](files/git_file_status.png)"
   ]
  },
  {
   "cell_type": "code",
   "execution_count": null,
   "metadata": {},
   "outputs": [],
   "source": [
    "%%bash\n",
    "cd myproject\n",
    "git add README.md"
   ]
  },
  {
   "cell_type": "code",
   "execution_count": null,
   "metadata": {},
   "outputs": [],
   "source": [
    "%%bash\n",
    "cd myproject\n",
    "git status"
   ]
  },
  {
   "cell_type": "code",
   "execution_count": null,
   "metadata": {},
   "outputs": [],
   "source": [
    "%%bash\n",
    "cd myproject\n",
    "git commit -m \"ADDED README.md\""
   ]
  },
  {
   "cell_type": "code",
   "execution_count": null,
   "metadata": {},
   "outputs": [],
   "source": [
    "%%bash\n",
    "cd myproject\n",
    "git status"
   ]
  },
  {
   "cell_type": "markdown",
   "metadata": {},
   "source": [
    "## Ändern einer Datei\n",
    "Ändert den Inhalt der Readme Datei über den Jupyter Filebrowser. Git sollte diese Änderung bemerken und den Status von unmodified zu modified ändern. Anschließend erstelle selbst einen neuen Commit."
   ]
  },
  {
   "cell_type": "code",
   "execution_count": null,
   "metadata": {},
   "outputs": [],
   "source": [
    "%%bash\n",
    "cd myproject\n",
    "git status\n",
    "git diff README.md"
   ]
  },
  {
   "cell_type": "code",
   "execution_count": null,
   "metadata": {},
   "outputs": [],
   "source": [
    "%%bash\n",
    "cd myproject\n",
    "# Erstelle nun selbst einen Commit\n"
   ]
  },
  {
   "cell_type": "code",
   "execution_count": null,
   "metadata": {},
   "outputs": [],
   "source": [
    "%%bash\n",
    "cd myproject\n",
    "# Überprüfe ob der Commit erstellt wurde\n",
    "git log"
   ]
  },
  {
   "cell_type": "code",
   "execution_count": null,
   "metadata": {},
   "outputs": [],
   "source": [
    "%%bash\n",
    "cd myproject\n",
    "# Das Log lässt sich auf viele Weisen visualisieren\n",
    "git log --pretty=format:\"%h %s\" --graph"
   ]
  },
  {
   "cell_type": "code",
   "execution_count": null,
   "metadata": {},
   "outputs": [],
   "source": [
    "%%bash\n",
    "cd myproject\n",
    "git log --stat"
   ]
  },
  {
   "cell_type": "code",
   "execution_count": null,
   "metadata": {},
   "outputs": [],
   "source": [
    "%%bash\n",
    "cd myproject\n",
    "git log -p"
   ]
  },
  {
   "cell_type": "markdown",
   "metadata": {},
   "source": [
    "## Änderungen rückgängig machen\n",
    "\n",
    "### Eine Datei zu einem bereits bestehenden Commit hinzufügen\n",
    "\n",
    "Dazu erstellt eine beliebige neue Datei in eurem Git Verzeichniss."
   ]
  },
  {
   "cell_type": "code",
   "execution_count": null,
   "metadata": {},
   "outputs": [],
   "source": [
    "%%bash\n",
    "cd myproject\n",
    "# Die erstellte Datei sollte nun als untracked file zu sehen sein\n",
    "git status"
   ]
  },
  {
   "cell_type": "code",
   "execution_count": null,
   "metadata": {},
   "outputs": [],
   "source": [
    "%%bash\n",
    "cd myproject\n",
    "# Der Parameter -A fügt alle modifizierten Dateien in die Staging Area hinzu\n",
    "git add -A"
   ]
  },
  {
   "cell_type": "code",
   "execution_count": 15,
   "metadata": {},
   "outputs": [
    {
     "name": "stdout",
     "output_type": "stream",
     "text": [
      "Before git commit amend\n",
      "* f605236 FIXED ammend with message\n",
      "* 00459d1 FIXED change directory before each bash block\n",
      "* 79cfb87 ADDED git merges\n",
      "* cba0b36 ADDED branching pictures\n",
      "* e61a16a ADDED git branches\n",
      "* ce278fe Update README.md\n",
      "* 28c9676 ADDED git remotes\n",
      "* 34ec1f4 ADDED git commits\n",
      "* 7a4723a ADDED git basics\n",
      "* 89fba2e ADDED simple jupyter notebook\n",
      "* 698ff4f Initial commit-----------------------------------\n",
      "[master 8ff20b7] ADDED diverse files\n",
      " Date: Wed Sep 26 11:09:34 2018 +0200\n",
      " 1 file changed, 1 insertion(+), 1 deletion(-)\n",
      "-----------------------------------\n",
      "After git log manipulation\n",
      "* 8ff20b7 ADDED diverse files\n",
      "* 00459d1 FIXED change directory before each bash block\n",
      "* 79cfb87 ADDED git merges\n",
      "* cba0b36 ADDED branching pictures\n",
      "* e61a16a ADDED git branches\n",
      "* ce278fe Update README.md\n",
      "* 28c9676 ADDED git remotes\n",
      "* 34ec1f4 ADDED git commits\n",
      "* 7a4723a ADDED git basics\n",
      "* 89fba2e ADDED simple jupyter notebook\n",
      "* 698ff4f Initial commit"
     ]
    },
    {
     "name": "stderr",
     "output_type": "stream",
     "text": [
      "bash: line 1: cd: myproject: No such file or directory\n"
     ]
    }
   ],
   "source": [
    "%%bash\n",
    "cd myproject\n",
    "echo \"Before git commit amend\"\n",
    "git log --pretty=format:\"%h %s\" --graph\n",
    "echo \"-----------------------------------\"\n",
    "git commit --amend -m \"ADDED diverse files\"\n",
    "echo \"-----------------------------------\"\n",
    "echo \"After git log manipulation\"\n",
    "git log --pretty=format:\"%h %s\" --graph"
   ]
  },
  {
   "cell_type": "markdown",
   "metadata": {},
   "source": [
    "### Eine Änderrung innerhalb einer Datei rückgängig machen\n",
    "\n",
    "Dazu füge einen beliebigen Inhalt in die README Datei hinzu."
   ]
  },
  {
   "cell_type": "code",
   "execution_count": null,
   "metadata": {},
   "outputs": [],
   "source": [
    "%%bash\n",
    "cd myproject\n",
    "# Die Datei wird als modifiziert angezeigt\n",
    "git status\n",
    "# Wollen wir nun den Stand auf den letzten Commit zurücksetzen reicht folgender Befehl\n",
    "git checkout -- README.md\n",
    "git status"
   ]
  },
  {
   "cell_type": "code",
   "execution_count": null,
   "metadata": {},
   "outputs": [],
   "source": [
    "%%bash\n",
    "cd myproject\n",
    "# Lassen wir uns den Inhalt der Datei anzeigen\n",
    "cat README.md"
   ]
  },
  {
   "cell_type": "markdown",
   "metadata": {},
   "source": [
    "## Remote Repositories\n",
    "\n",
    "Es gibt mehrere Online Anbieter für das Hosten eines Remote Git Repositories. \n",
    "* [Github](https://github.com/)\n",
    "* [Gitlab](https://about.gitlab.com/)\n",
    "* [Bitbucket](https://bitbucket.org/)\n"
   ]
  },
  {
   "cell_type": "code",
   "execution_count": null,
   "metadata": {},
   "outputs": [],
   "source": [
    "%%bash\n",
    "# Der Befehl git clone erstellt automatisch ein Unterverzeichniss\n",
    "git clone <Remote URL>\n",
    "# Nun sollte ein weiterer Ordner vorhanden sein\n",
    "ls -la"
   ]
  },
  {
   "cell_type": "code",
   "execution_count": null,
   "metadata": {},
   "outputs": [],
   "source": [
    "%%bash\n",
    "cd <Repository Folder>\n",
    "# Anzeigen der Remote Repositories (Default Name ist Origin)\n",
    "git remote -v"
   ]
  },
  {
   "cell_type": "code",
   "execution_count": null,
   "metadata": {},
   "outputs": [],
   "source": [
    "%%bash\n",
    "cd <Repository Folder>\n",
    "# Update der Git Datenbank\n",
    "git fetch origin"
   ]
  },
  {
   "cell_type": "code",
   "execution_count": null,
   "metadata": {},
   "outputs": [],
   "source": [
    "%%bash\n",
    "cd <Repository Folder>\n",
    "# Update der Git Datenbank und des Git Arbeitsverzeichnisses\n",
    "git pull origin"
   ]
  },
  {
   "cell_type": "markdown",
   "metadata": {},
   "source": [
    "![Git Fetch vs Pull](files/git_fetch_pull.png)"
   ]
  },
  {
   "cell_type": "markdown",
   "metadata": {},
   "source": [
    "## Git Branches\n",
    "\n",
    "Zunächst besteht ein Git Repository nur aus einer geordneten Liste von Commits. \n",
    "\n",
    "![Git Simple Branch](files/git_simple_branch.png)\n",
    "\n",
    "Mithilfe von \"git branches\" ist es möglich einen Zeiger auf einen Commit zu setzen und diesen als Urspung einer neuen Reihe an Commits zu verwenden.\n",
    "\n",
    "![Git new Branch](files/git_new_branch.png)\n",
    "\n",
    "Der neu erstellte Branch entwickelt sich unabhängig vom Master Branch.\n",
    "\n",
    "![Git two Branches](files/git_two_branches.png)\n",
    "\n",
    "In der Entwicklung kann dies dann folgendermaßen aussehen.\n",
    "Es kann zur selben Zeit an unterschiedlichen Features gearbeitet werden, ohne das sich die Arbeiten in die Quere kommen. Jede Branch hat ihr eigenes Working Directory.\n",
    "\n",
    "![Git Branches](files/git_branches.svg)\n",
    "\n",
    "\n",
    "### Git Merge\n",
    "\n",
    "Sobald die Arbeit an einem Feature fertiggestellt wurde können mittels einer Zusammenführung zweier \"git branches\" alle Änderungen, welche in der Feature Branch enthalten sind, in die Master Branch\" übernommen werden.\n",
    "\n",
    "![Git Merge](files/git_merge.png)"
   ]
  },
  {
   "cell_type": "code",
   "execution_count": null,
   "metadata": {},
   "outputs": [],
   "source": [
    "%%bash\n",
    "cd myproject\n",
    "# Gibt eine Liste an existierenden Branches aus\n",
    "git branch"
   ]
  },
  {
   "cell_type": "code",
   "execution_count": null,
   "metadata": {},
   "outputs": [],
   "source": [
    "%%bash\n",
    "cd myproject\n",
    "# Erstellt eine neue Branch\n",
    "git checkout -b feature_xy\n",
    "\n",
    "# Erstelle anschließend eine neue Datei in deinem git Verzeichniss"
   ]
  },
  {
   "cell_type": "code",
   "execution_count": null,
   "metadata": {},
   "outputs": [],
   "source": [
    "%%bash\n",
    "cd myproject\n",
    "# Nun sollte die geänderte Datei als untracked File auftauchen,\n",
    "# sowie die Information \"On branch feature_xy\"\n",
    "git status"
   ]
  },
  {
   "cell_type": "code",
   "execution_count": null,
   "metadata": {},
   "outputs": [],
   "source": [
    "%%bash\n",
    "cd myproject\n",
    "# Erzeuge nun einen Commit in der neuen Branch"
   ]
  },
  {
   "cell_type": "code",
   "execution_count": null,
   "metadata": {},
   "outputs": [],
   "source": [
    "%%bash\n",
    "cd myproject\n",
    "git log --graph --abbrev-commit --decorate --format=format:'%C(bold blue)%h%C(reset) - %C(bold green)(%ar)%C(reset) %C(white)%s%C(reset) %C(dim white)- %an%C(reset)%C(bold yellow)%d%C(reset)' --all"
   ]
  },
  {
   "cell_type": "code",
   "execution_count": null,
   "metadata": {},
   "outputs": [],
   "source": [
    "%%bash\n",
    "cd myproject\n",
    "# Nun übernehmen wir die Änderrungen der Feature Branch in die Master Branch\n",
    "git checkout master\n",
    "\n",
    "git merge feature_xy\n"
   ]
  },
  {
   "cell_type": "markdown",
   "metadata": {},
   "source": [
    "### Merge Konflikte\n",
    "\n",
    "Merge Konflikte treten auf sobald eine Datei in beiden Branches verändert wurde."
   ]
  },
  {
   "cell_type": "code",
   "execution_count": null,
   "metadata": {},
   "outputs": [],
   "source": [
    "%%bash\n",
    "cd myproject\n",
    "\n",
    "# Zunächst erstellen wir eine neue Datei welche später den Konflikt beinhalten wird\n",
    "touch conflict_file.txt\n",
    "# Füllen die Datei mit Inhalt\n",
    "echo \"Diese Datei wurde frisch angelegt\" > conflict_file.txt\n",
    "# Erzeugen einen neuen Commit\n",
    "git add -A\n",
    "git commit -m \"ADDED conflict file\""
   ]
  },
  {
   "cell_type": "code",
   "execution_count": null,
   "metadata": {},
   "outputs": [],
   "source": [
    "%%bash\n",
    "cd myproject\n",
    "\n",
    "# Nun erstellen wir eine Feature branch\n",
    "git checkout -b conflict_feature\n",
    "# In dem Feature wird der Inhalt der Datei angepasst und ein commit erstellt\n",
    "echo \"\\nFoobar\" >> conflict_file.txt\n",
    "git add -A\n",
    "git commit -m \"ADDED feature content on feature\""
   ]
  },
  {
   "cell_type": "code",
   "execution_count": null,
   "metadata": {},
   "outputs": [],
   "source": [
    "%%bash\n",
    "cd myproject\n",
    "\n",
    "# Würden wir nun mergen gäbe es kein Conflict da git einen \"fast-forward\" merge \n",
    "# durchführen würde\n",
    "git checkout master\n",
    "# Um einen Konflikt zu erzeugen ändern wir ebenfalls den Inhalt der Datei\n",
    "# und commiten diese Änderung\n",
    "echo \"\\nImportant Content\" >> conflict_file.txt\n",
    "git add -A\n",
    "git commit -m \"ADDED feature content on master\""
   ]
  },
  {
   "cell_type": "code",
   "execution_count": null,
   "metadata": {},
   "outputs": [],
   "source": [
    "%%bash\n",
    "cd myproject\n",
    "\n",
    "# Nun versuchen wir die beiden Branches zusammenzuführen mit einem merge\n",
    "git merge conflict_feature\n",
    "git status"
   ]
  },
  {
   "cell_type": "code",
   "execution_count": null,
   "metadata": {},
   "outputs": [],
   "source": [
    "%%bash\n",
    "cd myproject\n",
    "\n",
    "# Sieh dir nun die erstellte Datei im Jupyter Filebrowser an und löse den merge conflict\n",
    "# Anschließend erstelel einen Merge commit\n",
    "git add conflict_file.txt\n",
    "git commit -m \"MERGED conflict_feature into master\"\n",
    "git log --graph --abbrev-commit --decorate --format=format:'%C(bold blue)%h%C(reset) - %C(bold green)(%ar)%C(reset) %C(white)%s%C(reset) %C(dim white)- %an%C(reset)%C(bold yellow)%d%C(reset)' --all"
   ]
  },
  {
   "cell_type": "markdown",
   "metadata": {},
   "source": [
    "## Git Flow\n",
    "\n",
    "Diese Seite dient als Leitfaden für die Arbeitsweise mit dem SCM und basiert auf dem bekannten [Git Flow](\n",
    "https://www.atlassian.com/git/tutorials/comparing-workflows/gitflow-workflow) Konzept.\n",
    "\n",
    "\n",
    "### Feature Branches\n",
    "![feature_branches.png](files/git_feature_branches.svg)\n",
    "\n",
    "---\n",
    "\n",
    "### Release Branches\n",
    "![release_branches.png](files/git_release_branches.svg)\n",
    "\n",
    "---\n",
    "\n",
    "### Hotfix Branches\n",
    "![hotfix_branches.png](files/git_hotfix_branches.svg)\n",
    "\n",
    "---\n",
    "\n",
    "\n",
    "# Tools\n",
    "git-flow ist ein git Wrapper für die vereinfachte Umsetzung des Git Flow Konzeptes.\n",
    "\n",
    "## Windows Installation\n",
    "Git Flow ist Bestandteil von _[Git for Windows](https://gitforwindows.org/)_ \n",
    "\n",
    "## Linux installation\n",
    "\n",
    "### Debian / Ubuntu\n",
    "`apt-get install git-flow`\n",
    "\n",
    "### Arch\n",
    "[AUR Package](https://aur.archlinux.org/packages/gitflow-avh/)\n",
    "`yaourt -S gitflow-avh`\n",
    "\n",
    "### Fedora\n",
    "`dnf install gitflow`\n",
    "\n",
    "### Other\n",
    "```\n",
    "$ curl -OL https://raw.github.com/nvie/gitflow/develop/contrib/gitflow-installer.sh\n",
    "$ chmod +x gitflow-installer.sh\n",
    "$ sudo ./gitflow-installer.sh\n",
    "```"
   ]
  }
 ],
 "metadata": {
  "kernelspec": {
   "display_name": "Python 2",
   "language": "python",
   "name": "python2"
  },
  "language_info": {
   "codemirror_mode": {
    "name": "ipython",
    "version": 2
   },
   "file_extension": ".py",
   "mimetype": "text/x-python",
   "name": "python",
   "nbconvert_exporter": "python",
   "pygments_lexer": "ipython2",
   "version": "2.7.15"
  }
 },
 "nbformat": 4,
 "nbformat_minor": 2
}
