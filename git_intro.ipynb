{
 "cells": [
  {
   "cell_type": "markdown",
   "metadata": {},
   "source": [
    "# Arbeiten mit Jupyter\n",
    "\n",
    "Jupyter ist ein interaktives Notebook Tool. Das Notebook läuft innerhalb eines Linux Systems, und lässt das ausführen von einzelnen Skripten zu.\n",
    "Mitunter von Text findet ihr auf den zukünftigen Seiten immer wieder Bash Skripte. \n",
    "Sobald ihr ein Skript ausgewählt habt könnt ihr dieses mit **STRG+ENTER** ausführen.\n",
    "Die Konsolen Ausgabe erscheint kurz darauf darunter."
   ]
  },
  {
   "cell_type": "code",
   "execution_count": null,
   "metadata": {},
   "outputs": [],
   "source": [
    "%%bash\n",
    "echo \"Hello World\"\n",
    "\n",
    "#Do not remove the following Line (Cleanup old git repository)\n",
    "rm -rf .git"
   ]
  },
  {
   "cell_type": "markdown",
   "metadata": {},
   "source": [
    "# Einführung in git\n",
    "\n",
    "## Was ist git?\n",
    "\n",
    "> Git [ɡɪt] ist eine freie Software zur verteilten Versionsverwaltung von Dateien, die durch Linus Torvalds initiiert wurde. \n",
    "\n",
    "[Quelle: Wikipedia](https://de.wikipedia.org/wiki/Git)\n",
    "\n",
    "## Vorteile von git\n",
    "\n",
    "* mithilfe von git lassen sich Änderrungen an einer oder mehreren Dateeien  protokollieren\n",
    "* die Änderungshistorie ist zeitlich nicht begrenzt\n",
    "* man kann zu jeder Zeit zu einer Änderrung in der Vergangenheit \"springen\"\n",
    "* geringe Fehleranfälligkeit\n",
    "* geringer Aufwand bei dem Verwenden von git\n",
    "* lokales Arbeiten ist möglich (kein Server benötigt)\n",
    "* durch verteilte Versionskontrollsysteme wird es größeren Projektteams ermöglicht ihre Änderrungen gegenseitig auszutauschen\n",
    "\n",
    "![Verteilte Systeme](files/git_verteiltesysteme.png)\n",
    "\n",
    "[Quelle: git-scm.com: Wozu git](https://git-scm.com/book/de/v1/Los-geht%E2%80%99s-Wozu-Versionskontrolle%3F)"
   ]
  },
  {
   "cell_type": "markdown",
   "metadata": {},
   "source": [
    "## Grundlagen\n",
    "\n",
    "Änderrungen werden **Commits** genannt und erhalten bei dem erstellen einen eineindeutigen Hashwert. Git erkennt Differenzen in den Dateien über eine Checksum.\n",
    "\n",
    "Beispiel:\n",
    "```\n",
    "commit 89fba2edc30d88e807f6db626a3b25c26b1171a9 (HEAD -> master, origin/master, origin/HEAD)\n",
    "Author: Tobias Löb <tloeb@inwerken.de>\n",
    "Date:   Mon Sep 24 11:13:32 2018 +0200\n",
    "\n",
    "    ADDED simple jupyter notebook\n",
    "```\n",
    "\n",
    "### Git Haupt-Zustände einer Datei\n",
    "\n",
    "* modified\n",
    "* staged\n",
    "* commited\n",
    "\n",
    "### Git Aktionen\n",
    "\n",
    "![Git Operationen](files/git_operations.png)\n",
    "\n",
    "Innerhalb des git directories (*.git* Verzeichniss) liegt das gesamte Git Repository. Dieses wird bei einem *git clone* von einem entfernten System  auf das lokale System kopiert.\n",
    "\n",
    "Das working Directory ist ein **Checkout** einer spezifischen Version des Git Projektes. Und enthält Dateein welche zur Bearbeitung vorgesehen sind.\n",
    "\n",
    "Wird eine Datei bearbeitet erhält sie zunächst den Zustand **modiefied**.\n",
    "Um sie zu einem neuen **Commit** hinzuzufügen muss sie zu allererst in die **Staging Area** aufgenommen werden. Nun kann ein neuer **Commit** aus der Staging Area erzeugt werden.\n",
    "\n",
    "#### Zusammenfassung Git Arbeitsprozess\n",
    "\n",
    "1. Du bearbeitest Dateien in Deinem Arbeitsverzeichnis.\n",
    "2. Du markierst Dateien für den nächsten Commit, indem Du Snapshots zur Staging Area hinzufügst.\n",
    "3. Du legst den Commit an, wodurch die in der Staging Area vorgemerkten Snapshots dauerhaft im Git Verzeichnis (d.h. der lokalen Datenbank) gespeichert werden.\n",
    "\n",
    "\n",
    "[Quelle: git-scm.com: Grundlagen](https://git-scm.com/book/de/v1/Los-geht%E2%80%99s-Git-Grundlagen)"
   ]
  },
  {
   "cell_type": "markdown",
   "metadata": {},
   "source": [
    "## Installation\n",
    "\n",
    "### Windows\n",
    "http://msysgit.github.com/\n",
    "\n",
    "### Linux\n",
    "\n",
    "#### CentOS / RHEL\n",
    "`sudo yum install git`\n",
    "\n",
    "#### Debian Based Distributions\n",
    "`sudo apt install git`\n",
    "\n",
    "\n",
    "### Mac OS X\n",
    "http://sourceforge.net/projects/git-osx-installer/\n",
    "\n",
    "`brew install git`"
   ]
  },
  {
   "cell_type": "markdown",
   "metadata": {},
   "source": [
    "## Git Konfiguration\n",
    "\n",
    "Vor dem Verwenden von Git muss noch die eigene Identität konfiguriert werden."
   ]
  },
  {
   "cell_type": "code",
   "execution_count": null,
   "metadata": {},
   "outputs": [],
   "source": [
    "%%bash\n",
    "# Die Identität besteht aus einem Namen und einer zugehörigen Email Adresse\n",
    "git config --global user.name \"John Doe\"\n",
    "git config --global user.email johndoe@example.com\n",
    "# Anschließend überprüfen wir die Konfiguration\n",
    "git config --list | grep user"
   ]
  },
  {
   "cell_type": "markdown",
   "metadata": {},
   "source": [
    "## Git Commands"
   ]
  },
  {
   "cell_type": "code",
   "execution_count": null,
   "metadata": {},
   "outputs": [],
   "source": [
    "%%bash\n",
    "git help"
   ]
  },
  {
   "cell_type": "markdown",
   "metadata": {},
   "source": [
    "## Erzeugen eines neuen Git Repositories"
   ]
  },
  {
   "cell_type": "code",
   "execution_count": null,
   "metadata": {},
   "outputs": [],
   "source": [
    "%%bash\n",
    "git help init\n",
    "# Erzeuge ein Unterordner\n",
    "mkdir myproject\n",
    "# Wechsle in den eben erstellten Unterordner\n",
    "cd myproject\n",
    "pwd\n",
    "# Initialisiere das Git Projekt\n",
    "git init\n",
    "# Überprüfe ob das .git Verzeichniss anglegt wurde\n",
    "ls -la"
   ]
  },
  {
   "cell_type": "markdown",
   "metadata": {},
   "source": [
    "## Hinzufügen einer README\n",
    "\n",
    "Öffne ein neuen Tab und gehe zum Jupyter File Browser (Erreichbar über ein Klick auf das Jupyter Logo oben Links)\n",
    "\n",
    "Nun solltest du den frisch erstellten Ordner sehen.\n",
    "Innerhalb diesen Ordners erstelle eine Datei namens *README.md*."
   ]
  },
  {
   "cell_type": "code",
   "execution_count": null,
   "metadata": {},
   "outputs": [],
   "source": [
    "%%bash\n",
    "git status"
   ]
  },
  {
   "cell_type": "markdown",
   "metadata": {},
   "source": [
    "![Git Operationen](files/git_operations.png)"
   ]
  }
 ],
 "metadata": {
  "kernelspec": {
   "display_name": "Python 2",
   "language": "python",
   "name": "python2"
  },
  "language_info": {
   "codemirror_mode": {
    "name": "ipython",
    "version": 2
   },
   "file_extension": ".py",
   "mimetype": "text/x-python",
   "name": "python",
   "nbconvert_exporter": "python",
   "pygments_lexer": "ipython2",
   "version": "2.7.15rc1"
  }
 },
 "nbformat": 4,
 "nbformat_minor": 2
}
